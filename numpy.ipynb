{
 "cells": [
  {
   "cell_type": "markdown",
   "id": "f03d8b40",
   "metadata": {},
   "source": [
    "# Numpy"
   ]
  },
  {
   "cell_type": "code",
   "execution_count": 1,
   "id": "52d9f271",
   "metadata": {},
   "outputs": [
    {
     "data": {
      "text/plain": [
       "array([10, 20, 30])"
      ]
     },
     "execution_count": 1,
     "metadata": {},
     "output_type": "execute_result"
    }
   ],
   "source": [
    "import numpy as np\n",
    "n1=np.array([10,20,30])\n",
    "n1"
   ]
  },
  {
   "cell_type": "code",
   "execution_count": 2,
   "id": "335f6cb6",
   "metadata": {},
   "outputs": [
    {
     "data": {
      "text/plain": [
       "array([[10, 20, 30],\n",
       "       [40, 50, 60]])"
      ]
     },
     "execution_count": 2,
     "metadata": {},
     "output_type": "execute_result"
    }
   ],
   "source": [
    "n2=np.array([[10,20,30],[40,50,60]])\n",
    "n2"
   ]
  },
  {
   "cell_type": "code",
   "execution_count": 3,
   "id": "0483d5b9",
   "metadata": {},
   "outputs": [
    {
     "data": {
      "text/plain": [
       "(2, 3)"
      ]
     },
     "execution_count": 3,
     "metadata": {},
     "output_type": "execute_result"
    }
   ],
   "source": [
    "n2.shape"
   ]
  },
  {
   "cell_type": "code",
   "execution_count": 4,
   "id": "2dc2611a",
   "metadata": {},
   "outputs": [
    {
     "data": {
      "text/plain": [
       "(3, 2)"
      ]
     },
     "execution_count": 4,
     "metadata": {},
     "output_type": "execute_result"
    }
   ],
   "source": [
    "n2.shape=(3,2)\n",
    "n2.shape"
   ]
  },
  {
   "cell_type": "code",
   "execution_count": 5,
   "id": "31969135",
   "metadata": {},
   "outputs": [
    {
     "data": {
      "text/plain": [
       "array([[3., 3., 3., 3., 3.],\n",
       "       [3., 3., 3., 3., 3.],\n",
       "       [3., 3., 3., 3., 3.],\n",
       "       [3., 3., 3., 3., 3.],\n",
       "       [3., 3., 3., 3., 3.]])"
      ]
     },
     "execution_count": 5,
     "metadata": {},
     "output_type": "execute_result"
    }
   ],
   "source": [
    "n3=np.ones([5,5])\n",
    "n4=np.ones([5,5])\n",
    "n3+n4+n3*n4*n3*n4"
   ]
  },
  {
   "cell_type": "code",
   "execution_count": 6,
   "id": "8e234604",
   "metadata": {},
   "outputs": [
    {
     "data": {
      "text/plain": [
       "array([[10, 10, 10, 10, 10],\n",
       "       [10, 10, 10, 10, 10],\n",
       "       [10, 10, 10, 10, 10],\n",
       "       [10, 10, 10, 10, 10],\n",
       "       [10, 10, 10, 10, 10]])"
      ]
     },
     "execution_count": 6,
     "metadata": {},
     "output_type": "execute_result"
    }
   ],
   "source": [
    "n5=np.full([5,5],10)\n",
    "n5"
   ]
  },
  {
   "cell_type": "code",
   "execution_count": 7,
   "id": "1e4a957a",
   "metadata": {},
   "outputs": [
    {
     "name": "stdout",
     "output_type": "stream",
     "text": [
      "[ 0  2  4  6  8 10 12 14 16 18 20]\n"
     ]
    },
    {
     "data": {
      "text/plain": [
       "'[ 0  2  4  6  8 10 12 14 16 18 20]'"
      ]
     },
     "execution_count": 7,
     "metadata": {},
     "output_type": "execute_result"
    }
   ],
   "source": [
    "n6=np.arange(0,20+1,2)\n",
    "print(n6)\n",
    "str(n6)"
   ]
  },
  {
   "cell_type": "code",
   "execution_count": 8,
   "id": "5071b32a",
   "metadata": {},
   "outputs": [
    {
     "data": {
      "text/plain": [
       "array([ 79, 104,  64, 121, 119,  75,  47,  52,  53, 131])"
      ]
     },
     "execution_count": 8,
     "metadata": {},
     "output_type": "execute_result"
    }
   ],
   "source": [
    "n7=np.random.randint(1,141,10)\n",
    "n7"
   ]
  },
  {
   "cell_type": "markdown",
   "id": "ead2d7cc",
   "metadata": {},
   "source": [
    "# Joining the numpy arrays:\n",
    "## vstack(), hstack(), column_stack()"
   ]
  },
  {
   "cell_type": "code",
   "execution_count": 2,
   "id": "bfcd5c63",
   "metadata": {},
   "outputs": [],
   "source": [
    "import numpy as  np\n",
    "n1=[10,20,30]\n",
    "n2=[40,50,60]"
   ]
  },
  {
   "cell_type": "code",
   "execution_count": 3,
   "id": "feb62fe1",
   "metadata": {},
   "outputs": [
    {
     "data": {
      "text/plain": [
       "array([[10, 20, 30],\n",
       "       [40, 50, 60]])"
      ]
     },
     "execution_count": 3,
     "metadata": {},
     "output_type": "execute_result"
    }
   ],
   "source": [
    "np.vstack((n1,n2))"
   ]
  },
  {
   "cell_type": "code",
   "execution_count": 4,
   "id": "86594c7b",
   "metadata": {},
   "outputs": [
    {
     "data": {
      "text/plain": [
       "array([10, 20, 30, 40, 50, 60])"
      ]
     },
     "execution_count": 4,
     "metadata": {},
     "output_type": "execute_result"
    }
   ],
   "source": [
    "np.hstack((n1,n2))"
   ]
  },
  {
   "cell_type": "code",
   "execution_count": 5,
   "id": "99f53c14",
   "metadata": {},
   "outputs": [
    {
     "data": {
      "text/plain": [
       "array([[10, 40],\n",
       "       [20, 50],\n",
       "       [30, 60]])"
      ]
     },
     "execution_count": 5,
     "metadata": {},
     "output_type": "execute_result"
    }
   ],
   "source": [
    "np.column_stack((n1,n2))"
   ]
  },
  {
   "cell_type": "markdown",
   "id": "b2d8473b",
   "metadata": {},
   "source": [
    "# Numpy array mathemetics:"
   ]
  },
  {
   "cell_type": "code",
   "execution_count": 7,
   "id": "e95c2463",
   "metadata": {},
   "outputs": [],
   "source": [
    "n3=[10,20,30,40,50,60]\n",
    "n4=[50,60,60,80,]"
   ]
  },
  {
   "cell_type": "code",
   "execution_count": 8,
   "id": "a36bc5b0",
   "metadata": {},
   "outputs": [
    {
     "data": {
      "text/plain": [
       "array([50, 60])"
      ]
     },
     "execution_count": 8,
     "metadata": {},
     "output_type": "execute_result"
    }
   ],
   "source": [
    "np.intersect1d(n3,n4)"
   ]
  },
  {
   "cell_type": "code",
   "execution_count": 9,
   "id": "20a12522",
   "metadata": {},
   "outputs": [
    {
     "data": {
      "text/plain": [
       "array([10, 20, 30, 40])"
      ]
     },
     "execution_count": 9,
     "metadata": {},
     "output_type": "execute_result"
    }
   ],
   "source": [
    "np.setdiff1d(n3,n4)"
   ]
  },
  {
   "cell_type": "code",
   "execution_count": 10,
   "id": "9a58bd0f",
   "metadata": {},
   "outputs": [
    {
     "data": {
      "text/plain": [
       "array([80, 90])"
      ]
     },
     "execution_count": 10,
     "metadata": {},
     "output_type": "execute_result"
    }
   ],
   "source": [
    "np.setdiff1d(n4,n3)"
   ]
  },
  {
   "cell_type": "code",
   "execution_count": 11,
   "id": "1703f1fa",
   "metadata": {},
   "outputs": [
    {
     "data": {
      "text/plain": [
       "210"
      ]
     },
     "execution_count": 11,
     "metadata": {},
     "output_type": "execute_result"
    }
   ],
   "source": [
    "np.sum([n1,n2])"
   ]
  },
  {
   "cell_type": "code",
   "execution_count": 12,
   "id": "55922dee",
   "metadata": {},
   "outputs": [
    {
     "data": {
      "text/plain": [
       "array([50, 70, 90])"
      ]
     },
     "execution_count": 12,
     "metadata": {},
     "output_type": "execute_result"
    }
   ],
   "source": [
    "np.sum([n1,n2],axis=0)"
   ]
  },
  {
   "cell_type": "code",
   "execution_count": 13,
   "id": "e18e903f",
   "metadata": {},
   "outputs": [
    {
     "data": {
      "text/plain": [
       "array([ 60, 150])"
      ]
     },
     "execution_count": 13,
     "metadata": {},
     "output_type": "execute_result"
    }
   ],
   "source": [
    "np.sum([n1,n2],axis=1)"
   ]
  },
  {
   "cell_type": "markdown",
   "id": "65dc72d7",
   "metadata": {},
   "source": [
    "# Save and load the array"
   ]
  },
  {
   "cell_type": "code",
   "execution_count": 14,
   "id": "ecd97ea7",
   "metadata": {},
   "outputs": [],
   "source": [
    "import numpy as np\n",
    "n1=np.array([1,2,3,4,5])\n",
    "np.save('my_arr',n1)"
   ]
  },
  {
   "cell_type": "code",
   "execution_count": 15,
   "id": "46585e1b",
   "metadata": {},
   "outputs": [
    {
     "data": {
      "text/plain": [
       "array([1, 2, 3, 4, 5])"
      ]
     },
     "execution_count": 15,
     "metadata": {},
     "output_type": "execute_result"
    }
   ],
   "source": [
    "n2=np.load('my_arr.npy')\n",
    "n2"
   ]
  },
  {
   "cell_type": "markdown",
   "id": "eed35ddd",
   "metadata": {},
   "source": [
    "# Numpy Broadcasting"
   ]
  },
  {
   "cell_type": "code",
   "execution_count": 16,
   "id": "e9432169",
   "metadata": {},
   "outputs": [
    {
     "data": {
      "text/plain": [
       "array([ 2,  4,  6,  8, 10])"
      ]
     },
     "execution_count": 16,
     "metadata": {},
     "output_type": "execute_result"
    }
   ],
   "source": [
    "n1+n2"
   ]
  },
  {
   "cell_type": "code",
   "execution_count": 18,
   "id": "01516fd6",
   "metadata": {},
   "outputs": [
    {
     "data": {
      "text/plain": [
       "array([[ 15,  30,  45],\n",
       "       [ 45,  60,  75],\n",
       "       [ 75,  90, 105]])"
      ]
     },
     "execution_count": 18,
     "metadata": {},
     "output_type": "execute_result"
    }
   ],
   "source": [
    "n3=np.array([[10,20,30],[40,50,60],[70,80,90]])\n",
    "n4=np.array([5,10,15])\n",
    "n5=n3+n4\n",
    "n5"
   ]
  },
  {
   "cell_type": "code",
   "execution_count": 19,
   "id": "9dd83390",
   "metadata": {},
   "outputs": [
    {
     "data": {
      "text/plain": [
       "array([[ 15,  45,  75],\n",
       "       [ 30,  60,  90],\n",
       "       [ 45,  75, 105]])"
      ]
     },
     "execution_count": 19,
     "metadata": {},
     "output_type": "execute_result"
    }
   ],
   "source": [
    "n5.transpose()"
   ]
  },
  {
   "cell_type": "code",
   "execution_count": 20,
   "id": "c37d853d",
   "metadata": {},
   "outputs": [
    {
     "name": "stdout",
     "output_type": "stream",
     "text": [
      "[10 20 30] \n",
      "\n",
      "[40 50 60]\n"
     ]
    }
   ],
   "source": [
    "print(n3[0],\"\\n\")\n",
    "print(n3[1])"
   ]
  },
  {
   "cell_type": "code",
   "execution_count": 21,
   "id": "ad245b4b",
   "metadata": {},
   "outputs": [
    {
     "name": "stdout",
     "output_type": "stream",
     "text": [
      "[20 50 80] \n",
      "\n",
      "[30 60 90]\n"
     ]
    }
   ],
   "source": [
    "print(n3[:,1],\"\\n\")\n",
    "print(n3[:,2])"
   ]
  },
  {
   "cell_type": "code",
   "execution_count": 22,
   "id": "4578665c",
   "metadata": {},
   "outputs": [
    {
     "name": "stdout",
     "output_type": "stream",
     "text": [
      "20 \n",
      "\n",
      "50 \n",
      "\n",
      "80\n"
     ]
    }
   ],
   "source": [
    "print(n3[0,1],\"\\n\")\n",
    "print(n3[1,1],\"\\n\")\n",
    "print(n3[2,1])"
   ]
  }
 ],
 "metadata": {
  "kernelspec": {
   "display_name": "Python 3 (ipykernel)",
   "language": "python",
   "name": "python3"
  },
  "language_info": {
   "codemirror_mode": {
    "name": "ipython",
    "version": 3
   },
   "file_extension": ".py",
   "mimetype": "text/x-python",
   "name": "python",
   "nbconvert_exporter": "python",
   "pygments_lexer": "ipython3",
   "version": "3.10.9"
  }
 },
 "nbformat": 4,
 "nbformat_minor": 5
}
